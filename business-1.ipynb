{
 "cells": [
  {
   "cell_type": "markdown",
   "id": "274fe121",
   "metadata": {},
   "source": [
    "1 problem"
   ]
  },
  {
   "cell_type": "code",
   "execution_count": 6,
   "id": "92fd876d",
   "metadata": {},
   "outputs": [
    {
     "name": "stdout",
     "output_type": "stream",
     "text": [
      "2.8609076666666664\n",
      "Momentum method results\n",
      "A is:\n",
      "0.1550102624672478\n",
      "B is:\n",
      "5.098989737532753\n"
     ]
    }
   ],
   "source": [
    "import math \n",
    "\n",
    "\n",
    "lst = [1.99, 3.11, 4.20, 3.68, 0.11, 0.96, 4.19, 0.18, 0.20, 1.96, 4.80, 2.60, 4.89, 0.92, 4.16, 1.17, 4.42, 0.75, 0.92,\n",
    "4.37, 4.77, 4.45, 1.17, 1.72, 3.27, 0.54, 1.77, 1.69, 4.92, 4.93]\n",
    "\n",
    "mean = sum(lst) / len(lst)\n",
    "\n",
    "d = 0\n",
    "\n",
    "for x in lst:\n",
    "    d = d + (x - mean) ** 2\n",
    "    \n",
    "d /= len(lst)\n",
    "\n",
    "print(d)\n",
    "\n",
    "b = mean + (math.sqrt(12 * d + 1) - 1) / 2\n",
    "a = mean - (math.sqrt(12 * d + 1) - 1) / 2\n",
    "\n",
    "print('Momentum method results')\n",
    "print('A is:')\n",
    "print(a)\n",
    "print('B is:')\n",
    "print(b)"
   ]
  },
  {
   "cell_type": "markdown",
   "id": "58b84338",
   "metadata": {},
   "source": [
    "Для метода максимального правдоподобия, если мы хотим максимизировать функцию правдопобия, то наша функция должна как минимум быть не \n",
    "нулевая, то есть сразу можем зафиксировать что a <= min_lst, b >= max_lst. Но при этом нам надо минимизировать b и максимизировать\n",
    "a - значит a = min_lst, b = max_lst\n",
    "\n",
    "a = 0.11\n",
    "b = 4.94\n",
    "\n",
    "Проанализировать результаты можно так. Метод правдоподобия содержит больше смысла в том отношении что вот у нас есть минимум есть \n",
    "максимум а надо максимизировать б минимизировать. Метод моментов больше думал про матожидание итд, он посмотрел что матожидание большое\n",
    "поэтому и параметр а такой большой даже больше минимума. Все же метод максимального правдоподобия здесь будет лучше работать.\n",
    "\n",
    "Максимальный срок ожидания - 4.94"
   ]
  },
  {
   "cell_type": "markdown",
   "id": "6815a511",
   "metadata": {},
   "source": [
    "2 problem"
   ]
  },
  {
   "cell_type": "code",
   "execution_count": 2,
   "id": "7b983b16",
   "metadata": {},
   "outputs": [
    {
     "name": "stdout",
     "output_type": "stream",
     "text": [
      "Expectation is\n",
      "5.408333333333332\n",
      "\n",
      "Dispersion is\n",
      "0.5890972222222222\n",
      "\n",
      "Borders for expectation\n",
      "5.275681846374824\n",
      "5.540984820291841\n",
      "\n",
      "Borders for dispersion\n",
      "0.3224984793187347\n",
      "1.8525069881201957\n",
      "\n",
      "3 Sigma Borders\n",
      "3.003366881100862\n",
      "7.813299785565803\n"
     ]
    }
   ],
   "source": [
    "lst = [5.4, 4.2, 4.4, 6.0, 4.9, 6.2, 7.0, 5.5, 5.1, 5.4, 4.8, 6.0]\n",
    "\n",
    "mean = sum(lst) / len(lst)\n",
    "\n",
    "print('Expectation is')\n",
    "print(mean)\n",
    "print('')\n",
    "\n",
    "d = 0\n",
    "\n",
    "for x in lst:\n",
    "    d = d + (x - mean) ** 2\n",
    "    \n",
    "d /= len(lst)\n",
    "n = len(lst)\n",
    "\n",
    "print('Dispersion is')\n",
    "print(d)\n",
    "print('')\n",
    "\n",
    "z1 = 0.5987\n",
    "\n",
    "print('Borders for expectation')\n",
    "print(mean - math.sqrt(d / n) * z1)\n",
    "print(mean + math.sqrt(d / n) * z1)\n",
    "\n",
    "print('')\n",
    "\n",
    "print('Borders for dispersion')\n",
    "print(d * n / 21.920)\n",
    "print(d * n / 3.816)\n",
    "\n",
    "print('')\n",
    "\n",
    "sigma = math.sqrt(d * n / (n - 1))\n",
    "\n",
    "print('3 Sigma Borders')\n",
    "print( -3 * sigma + mean)\n",
    "print( 3 * sigma + mean)"
   ]
  },
  {
   "cell_type": "markdown",
   "id": "a783d3f7",
   "metadata": {},
   "source": [
    "Можно видеть, что обе гипотезы выполнились потому что лежат в доверительных интервалах. Интерпретация такова что мы сформировали какие то\n",
    "границы в которых если мы лежим, то действительно выборка соответствует заданному распределению (нормальному). Гипотеза подтвердилась, то есть верно что распределение продажи товара соответствует нормальному распределению. Про 3 сигмы - они будут давать еще больший интервал то есть интервал 0.9978 и видно какие бы тогда были границы доверительного интервала. То есть логично что они шире сформулированого нами\n",
    "изначально и поэтому в 3 сигма интервале мы также находимся."
   ]
  },
  {
   "cell_type": "markdown",
   "id": "c6404d03",
   "metadata": {},
   "source": [
    "3 problem"
   ]
  },
  {
   "cell_type": "code",
   "execution_count": 7,
   "id": "69bc972f",
   "metadata": {},
   "outputs": [
    {
     "name": "stdout",
     "output_type": "stream",
     "text": [
      "level of criteria\n",
      "9.316949906249132\n"
     ]
    }
   ],
   "source": [
    "crit = (0.07 - 0.06) * math.sqrt(500) / 0.024\n",
    "print('level of criteria')\n",
    "print(crit)\n"
   ]
  },
  {
   "cell_type": "markdown",
   "id": "3ec9e70f",
   "metadata": {},
   "source": [
    "матожидание у нас получается до изменений было 0.06. 0.07 среднее для 500 эксперементов. \n",
    "Дисперсия выборочная будет равна 0.06 - 0.036 = 0.024.\n",
    "Давайте решать эту задачу в критериях гипотез. \n",
    "Проверирм гипотезу что среднее значение нового эксперемента будет равно 0.06 на уровне доверия 5%. Критерий будет равен 1.645\n",
    "Между тем наш критерий будет 9.31 получается, что мы отвергаем гипотезу о том, что мы у нас матожидание осталось такое же какое было.\n",
    "Значит мы подтверждаем гипотезу о том, что мы получили существенное улучшение после обновления рекламы."
   ]
  },
  {
   "cell_type": "markdown",
   "id": "d632a59b",
   "metadata": {},
   "source": [
    "4 problem"
   ]
  },
  {
   "cell_type": "code",
   "execution_count": 4,
   "id": "a7c5fe85",
   "metadata": {},
   "outputs": [
    {
     "name": "stdout",
     "output_type": "stream",
     "text": [
      "10.480005175312478\n"
     ]
    }
   ],
   "source": [
    "d = (3.2 - 1.4) / math.sqrt(0.35 / 20 + 0.18 / 15)\n",
    "print(d)"
   ]
  },
  {
   "cell_type": "markdown",
   "id": "0686e4bc",
   "metadata": {},
   "source": [
    "H0 := {x = y}\n",
    "    \n",
    "H1 := {x > y}\n",
    "    \n",
    "статистика критерия равна 10, что больше phi(0.95) = 1.96 - значит мы попали в область критерия значит отвергаем гипотезу H0\n",
    "и принимаем гипотезу о том, что мы значительно уменьшили время ожидания то есть что мы добились значительного улучшения. Формула для \n",
    "расчетов взята с лекции."
   ]
  },
  {
   "cell_type": "code",
   "execution_count": null,
   "id": "590f3694",
   "metadata": {},
   "outputs": [],
   "source": []
  }
 ],
 "metadata": {
  "kernelspec": {
   "display_name": "Python 3 (ipykernel)",
   "language": "python",
   "name": "python3"
  },
  "language_info": {
   "codemirror_mode": {
    "name": "ipython",
    "version": 3
   },
   "file_extension": ".py",
   "mimetype": "text/x-python",
   "name": "python",
   "nbconvert_exporter": "python",
   "pygments_lexer": "ipython3",
   "version": "3.10.8"
  }
 },
 "nbformat": 4,
 "nbformat_minor": 5
}
